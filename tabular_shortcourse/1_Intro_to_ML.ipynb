{
 "cells": [
  {
   "cell_type": "markdown",
   "id": "f9a23e92",
   "metadata": {
    "slideshow": {
     "slide_type": "slide"
    }
   },
   "source": [
    "## Introduction to Machine Learning\n",
    "\n",
    "### Instructions\n",
    "- To follow along go to [github.com/jsharpna/DavisSML](https://github.com/jsharpna/DavisSML) or clone `git clone git@github.com:jsharpna/DavisSML.git`\n",
    "- Navigate to `tabular_shortcourse` and click on the relevant lecture (in terminal `cd DavisSML/tabular_shortcourse`)\n",
    "- For an interactive experience make the necessary installations `pip install -r requirements.in` and open the notebooks `jupyter notebook`\n",
    "\n",
    "*Optional*: if you are uncomfortable installing on your system python install (above), create a virtual environment: \n",
    "```\n",
    "python -m venv env\n",
    "source env/bin/activate\n",
    "pip install -r requirements.in\n",
    "python -m ipykernel install --name=tabular --user\n",
    "jupyter notebook\n",
    "```\n",
    "then when you open the notebook select the tabular kernel."
   ]
  },
  {
   "cell_type": "markdown",
   "id": "d6778a68",
   "metadata": {
    "slideshow": {
     "slide_type": "slide"
    }
   },
   "source": [
    "## Machine Learning\n",
    "\n",
    "> A computer program learns from experience (data), with respect to a class of tasks, and performance measure (metrics/loss), if its performance improves with experience. - Paraphrased from Tom Mitchell, \"Machine Learning\"\n",
    "\n",
    "### Inference vs. Prediction\n",
    "\n",
    "- statistical inference: is this effect significant? is the model correct? etc.\n",
    "- prediction: does this algorithm predict the response variable well?\n",
    "\n",
    "### Terms\n",
    "\n",
    "- *supervised learning*: predicting one variable from many others\n",
    "- *features*, *input*, *independent variables*: X variables\n",
    "- *output*, *dependent variable*: Y variable\n",
    "- *tabular data*:  \n",
    "  - ``X``: $n \\times p$ design matrix / features\n",
    "  - ``Y``: $n$ label vector"
   ]
  },
  {
   "cell_type": "code",
   "execution_count": 83,
   "id": "eda13599",
   "metadata": {
    "slideshow": {
     "slide_type": "slide"
    }
   },
   "outputs": [],
   "source": [
    "import numpy as np\n",
    "import pandas as pd\n",
    "from sklearn.linear_model import LinearRegression\n",
    "from sklearn.neighbors import KNeighborsRegressor\n",
    "from sklearn.preprocessing import StandardScaler\n",
    "from sklearn.metrics import mean_squared_error, accuracy_score\n",
    "from sklearn.pipeline import Pipeline\n",
    "from sklearn.decomposition import PCA\n",
    "from sklearn.ensemble import RandomForestClassifier\n",
    "from sklearn.datasets import load_iris\n",
    "from sklearn.model_selection import train_test_split, KFold\n",
    "import matplotlib.pyplot as plt\n",
    "plt.style.use(\"ggplot\")\n",
    "\n",
    "# Read wine data\n",
    "wine = pd.read_csv('../data/winequality-red.csv', delimiter=';')"
   ]
  },
  {
   "cell_type": "code",
   "execution_count": 6,
   "id": "b5922bce",
   "metadata": {
    "slideshow": {
     "slide_type": "slide"
    }
   },
   "outputs": [
    {
     "data": {
      "text/html": [
       "<div>\n",
       "<style scoped>\n",
       "    .dataframe tbody tr th:only-of-type {\n",
       "        vertical-align: middle;\n",
       "    }\n",
       "\n",
       "    .dataframe tbody tr th {\n",
       "        vertical-align: top;\n",
       "    }\n",
       "\n",
       "    .dataframe thead th {\n",
       "        text-align: right;\n",
       "    }\n",
       "</style>\n",
       "<table border=\"1\" class=\"dataframe\">\n",
       "  <thead>\n",
       "    <tr style=\"text-align: right;\">\n",
       "      <th></th>\n",
       "      <th>fixed acidity</th>\n",
       "      <th>volatile acidity</th>\n",
       "      <th>citric acid</th>\n",
       "      <th>residual sugar</th>\n",
       "      <th>chlorides</th>\n",
       "      <th>free sulfur dioxide</th>\n",
       "      <th>total sulfur dioxide</th>\n",
       "      <th>density</th>\n",
       "      <th>pH</th>\n",
       "      <th>sulphates</th>\n",
       "      <th>alcohol</th>\n",
       "      <th>quality</th>\n",
       "    </tr>\n",
       "  </thead>\n",
       "  <tbody>\n",
       "    <tr>\n",
       "      <th>0</th>\n",
       "      <td>7.4</td>\n",
       "      <td>0.70</td>\n",
       "      <td>0.00</td>\n",
       "      <td>1.9</td>\n",
       "      <td>0.076</td>\n",
       "      <td>11.0</td>\n",
       "      <td>34.0</td>\n",
       "      <td>0.9978</td>\n",
       "      <td>3.51</td>\n",
       "      <td>0.56</td>\n",
       "      <td>9.4</td>\n",
       "      <td>5</td>\n",
       "    </tr>\n",
       "    <tr>\n",
       "      <th>1</th>\n",
       "      <td>7.8</td>\n",
       "      <td>0.88</td>\n",
       "      <td>0.00</td>\n",
       "      <td>2.6</td>\n",
       "      <td>0.098</td>\n",
       "      <td>25.0</td>\n",
       "      <td>67.0</td>\n",
       "      <td>0.9968</td>\n",
       "      <td>3.20</td>\n",
       "      <td>0.68</td>\n",
       "      <td>9.8</td>\n",
       "      <td>5</td>\n",
       "    </tr>\n",
       "    <tr>\n",
       "      <th>2</th>\n",
       "      <td>7.8</td>\n",
       "      <td>0.76</td>\n",
       "      <td>0.04</td>\n",
       "      <td>2.3</td>\n",
       "      <td>0.092</td>\n",
       "      <td>15.0</td>\n",
       "      <td>54.0</td>\n",
       "      <td>0.9970</td>\n",
       "      <td>3.26</td>\n",
       "      <td>0.65</td>\n",
       "      <td>9.8</td>\n",
       "      <td>5</td>\n",
       "    </tr>\n",
       "    <tr>\n",
       "      <th>3</th>\n",
       "      <td>11.2</td>\n",
       "      <td>0.28</td>\n",
       "      <td>0.56</td>\n",
       "      <td>1.9</td>\n",
       "      <td>0.075</td>\n",
       "      <td>17.0</td>\n",
       "      <td>60.0</td>\n",
       "      <td>0.9980</td>\n",
       "      <td>3.16</td>\n",
       "      <td>0.58</td>\n",
       "      <td>9.8</td>\n",
       "      <td>6</td>\n",
       "    </tr>\n",
       "    <tr>\n",
       "      <th>4</th>\n",
       "      <td>7.4</td>\n",
       "      <td>0.70</td>\n",
       "      <td>0.00</td>\n",
       "      <td>1.9</td>\n",
       "      <td>0.076</td>\n",
       "      <td>11.0</td>\n",
       "      <td>34.0</td>\n",
       "      <td>0.9978</td>\n",
       "      <td>3.51</td>\n",
       "      <td>0.56</td>\n",
       "      <td>9.4</td>\n",
       "      <td>5</td>\n",
       "    </tr>\n",
       "  </tbody>\n",
       "</table>\n",
       "</div>"
      ],
      "text/plain": [
       "   fixed acidity  volatile acidity  citric acid  residual sugar  chlorides  \\\n",
       "0            7.4              0.70         0.00             1.9      0.076   \n",
       "1            7.8              0.88         0.00             2.6      0.098   \n",
       "2            7.8              0.76         0.04             2.3      0.092   \n",
       "3           11.2              0.28         0.56             1.9      0.075   \n",
       "4            7.4              0.70         0.00             1.9      0.076   \n",
       "\n",
       "   free sulfur dioxide  total sulfur dioxide  density    pH  sulphates  \\\n",
       "0                 11.0                  34.0   0.9978  3.51       0.56   \n",
       "1                 25.0                  67.0   0.9968  3.20       0.68   \n",
       "2                 15.0                  54.0   0.9970  3.26       0.65   \n",
       "3                 17.0                  60.0   0.9980  3.16       0.58   \n",
       "4                 11.0                  34.0   0.9978  3.51       0.56   \n",
       "\n",
       "   alcohol  quality  \n",
       "0      9.4        5  \n",
       "1      9.8        5  \n",
       "2      9.8        5  \n",
       "3      9.8        6  \n",
       "4      9.4        5  "
      ]
     },
     "execution_count": 6,
     "metadata": {},
     "output_type": "execute_result"
    }
   ],
   "source": [
    "wine.head()"
   ]
  },
  {
   "cell_type": "code",
   "execution_count": 7,
   "id": "09802e2d",
   "metadata": {
    "slideshow": {
     "slide_type": "skip"
    }
   },
   "outputs": [
    {
     "name": "stdout",
     "output_type": "stream",
     "text": [
      "<class 'pandas.core.frame.DataFrame'>\n",
      "RangeIndex: 1599 entries, 0 to 1598\n",
      "Data columns (total 12 columns):\n",
      " #   Column                Non-Null Count  Dtype  \n",
      "---  ------                --------------  -----  \n",
      " 0   fixed acidity         1599 non-null   float64\n",
      " 1   volatile acidity      1599 non-null   float64\n",
      " 2   citric acid           1599 non-null   float64\n",
      " 3   residual sugar        1599 non-null   float64\n",
      " 4   chlorides             1599 non-null   float64\n",
      " 5   free sulfur dioxide   1599 non-null   float64\n",
      " 6   total sulfur dioxide  1599 non-null   float64\n",
      " 7   density               1599 non-null   float64\n",
      " 8   pH                    1599 non-null   float64\n",
      " 9   sulphates             1599 non-null   float64\n",
      " 10  alcohol               1599 non-null   float64\n",
      " 11  quality               1599 non-null   int64  \n",
      "dtypes: float64(11), int64(1)\n",
      "memory usage: 150.0 KB\n"
     ]
    }
   ],
   "source": [
    "wine.info()"
   ]
  },
  {
   "cell_type": "code",
   "execution_count": 8,
   "id": "053afce7",
   "metadata": {
    "slideshow": {
     "slide_type": "subslide"
    }
   },
   "outputs": [],
   "source": [
    "y = wine.iloc[:,-1]\n",
    "X = wine.iloc[:,:-1]\n",
    "n,p = X.shape"
   ]
  },
  {
   "cell_type": "markdown",
   "id": "8b705750",
   "metadata": {
    "slideshow": {
     "slide_type": "slide"
    }
   },
   "source": [
    "### Linear model\n",
    "\n",
    "$$\\hat y(x_i; \\beta) = \\beta_0 + \\sum_{j=1}^p \\beta_j x_{i,j}$$\n",
    "\n",
    "### Inference in linear models\n",
    "\n",
    "- statistically test for significance of effects\n",
    "- requires normality assumptions, homoscedasticity, linear model is correct\n",
    "- hard to obtain significance for individual effect under colinearity\n",
    "\n",
    "### Prediction perspective\n",
    "\n",
    "- think of ordinary least squares (OLS) as a black-box model for predicting $Y | X$\n",
    "- how do we evaluate performance of prediction?\n",
    "- how do we choose between multiple OLS models?"
   ]
  },
  {
   "cell_type": "markdown",
   "id": "9d0de3af",
   "metadata": {
    "slideshow": {
     "slide_type": "slide"
    }
   },
   "source": [
    "### Supervised learning\n",
    "\n",
    "Learning machine that takes $p$-dimensional data $x_i = (x_{i,1}, \\ldots, x_{i,p})$ and predicts $y_i$. \n",
    "\n",
    "- *Task:* **Predict** $y$ given $x$ as $f_\\beta(x)$\n",
    "- *Performance Metric:* **Loss** measured with some function $\\ell(\\beta; x,y)$\n",
    "- *Experience:* **Fit** the model with training data $\\{x_i,y_i\\}_{i=1}^{n}$\n",
    "\n",
    "### Linear Regression\n",
    "\n",
    "- **Fit / Training**: Compute $\\hat \\beta$ from OLS with training data $\\{x_i,y_i\\}_{i=1}^{n}$\n",
    "- **Predict / Inference**: For a new input $x_{n+1}$ predict $$\\hat y_{n+1} = \\hat y(x_{n+1}; \\hat \\beta) = \\hat \\beta_0 + \\sum_{j=1}^p \\hat \\beta_j x_{n+1,j}$$\n",
    "- **Loss**: Observe new response $y_{n+1}$ and see loss $$\\ell(\\hat \\beta; x_{n+1},y_{n+1}) = (\\hat y_{n+1} - y_{n+1})^2$$"
   ]
  },
  {
   "cell_type": "markdown",
   "id": "06f20ced",
   "metadata": {
    "slideshow": {
     "slide_type": "slide"
    }
   },
   "source": [
    "### Exercise 1.1\n",
    "\n",
    "- Look at the [train_test_split documentation](https://scikit-learn.org/stable/modules/generated/sklearn.model_selection.train_test_split.html) and the [LinearRegression documentation](https://scikit-learn.org/stable/modules/generated/sklearn.linear_model.LinearRegression.html); look at the `fit` and `predict` methods for the linear regression\n",
    "- Split the wine data using the `train_test_split` with `test_size` at 50%.\n",
    "- Use the `LinearRegression` class to fit a linear regression on the training data\n",
    "- Predict the wine quality on the test data and compute the average square error loss"
   ]
  },
  {
   "cell_type": "code",
   "execution_count": 11,
   "id": "4b2a52ef",
   "metadata": {
    "slideshow": {
     "slide_type": "slide"
    }
   },
   "outputs": [
    {
     "name": "stdout",
     "output_type": "stream",
     "text": [
      "0.4301642625362325\n",
      "0.6294978097622028\n"
     ]
    }
   ],
   "source": [
    "## Answer to ex 1.1\n",
    "from sklearn.model_selection import train_test_split\n",
    "\n",
    "X_tr, X_te, y_tr, y_te = train_test_split(X,y,test_size = .5)\n",
    "lr = LinearRegression()\n",
    "lr.fit(X_tr,y_tr)\n",
    "\n",
    "y_pred = lr.predict(X_te)\n",
    "MSE = ((y_pred - y_te)**2).mean()\n",
    "\n",
    "## It is reasonable to compare the MSE to the variance...\n",
    "print(MSE)\n",
    "print(y_te.var())"
   ]
  },
  {
   "cell_type": "markdown",
   "id": "f848bc95",
   "metadata": {
    "slideshow": {
     "slide_type": "slide"
    }
   },
   "source": [
    "### Risk and Empirical Risk\n",
    "\n",
    "Given a loss $\\ell(\\theta; X,Y)$, for parameters $\\theta$, the *risk* is \n",
    "$$\n",
    "R(\\theta) = \\mathbb E \\ell(\\theta; X,Y).\n",
    "$$\n",
    "\n",
    "And given training data $\\{x_i,y_i\\}_{i=1}^{n_0}$ (drawn iid to $X,Y$), then the *empirical risk*, or *training loss* is\n",
    "$$\n",
    "R_n(\\theta) = \\frac 1n \\sum_{i=1}^n \\ell(\\theta; x_i, y_i).\n",
    "$$\n",
    "Notice that $\\mathbb E R_n(\\theta) = R(\\theta)$ for fixed $\\theta$.\n",
    "\n",
    "For a class of parameters $\\Theta$, the *empirical risk minimizer (ERM)* is the \n",
    "$$\n",
    "\\hat \\theta = \\arg \\min_{\\theta \\in \\Theta} R_n(\\theta)\n",
    "$$\n",
    "(may not be unique)."
   ]
  },
  {
   "cell_type": "markdown",
   "id": "0818c324",
   "metadata": {
    "slideshow": {
     "slide_type": "slide"
    }
   },
   "source": [
    "### Why/when is ERM a good idea?\n",
    "\n",
    "For a fixed $\\theta$, when the data is independent and identically distributed, we know by the Law of Large Numbers,\n",
    "$$\n",
    "R_n(\\theta) = \\frac 1n \\sum_{i=1}^n \\ell(\\theta; x_i, y_i) \\rightarrow_{\\mathbb P} \\mathbb E \\ell(\\theta; X,Y) = R(\\theta),\n",
    "$$\n",
    "We want to minimize $R(\\theta)$, so $R_n(\\theta)$ is a pretty good surrogate."
   ]
  },
  {
   "cell_type": "markdown",
   "id": "1b857fcd",
   "metadata": {
    "slideshow": {
     "slide_type": "slide"
    }
   },
   "source": [
    "### OLS is the ERM\n",
    "\n",
    "OLS minimizes the following objective,\n",
    "$$\n",
    "R_n(\\beta) = \\frac 1n \\sum_{i=1}^n \\left(y_i - x_i^\\top \\beta - \\beta_0 \\right)^2\n",
    "$$\n",
    "with respect to $\\beta,\\beta_0$.\n",
    "This is the ERM for square error loss and linear predictor."
   ]
  },
  {
   "cell_type": "markdown",
   "id": "fe3bfdf1",
   "metadata": {
    "slideshow": {
     "slide_type": "slide"
    }
   },
   "source": [
    "### Example: Binary classification\n",
    "\n",
    "Mortgage insurer pays the mortgage company if the insuree defaults on loan.  To determine how much to charge, the insurer wants to predict if they will default (1) or not (0).\n",
    "\n",
    "An actuary (from 19th century) says that people that are young (less than 30) are irresponsible and will not insure them.  Let $x$ be the age in years, $y = 1$ if they default, and $\\theta = 30$.\n",
    "\n",
    "$$\n",
    "\\hat y(x;\\theta) = \\left\\{ \\begin{array}{ll}\n",
    "1, &x < \\theta\\\\\n",
    "0, &x \\ge \\theta \n",
    "\\end{array}\n",
    "\\right.\n",
    "$$\n",
    "\n",
    "0-1 loss is\n",
    "$$\n",
    "\\ell_{0-1}(\\theta; x,y) = 1 \\textrm{ if } \\hat y(x; \\theta)\\ne y, ~ 0 \\textrm{ otherwise}.\n",
    "$$\n",
    "The risk is\n",
    "$$\n",
    "R(\\theta) = \\mathbb P \\{ \\hat y(x; \\theta)\\ne y \\}.\n",
    "$$\n",
    "How well will he do?"
   ]
  },
  {
   "cell_type": "markdown",
   "id": "47034302",
   "metadata": {},
   "source": [
    "### Issue with training error in Supervised learning.\n",
    "\n",
    "Let $\\hat \\theta$ be the ERM, then the *training error* is\n",
    "$$\n",
    "R_n(\\hat \\theta) = \\min_{\\theta \\in \\Theta} R_n(\\theta)\n",
    "$$\n",
    "which does NOT converge to $R(\\theta)$ because\n",
    "$$\n",
    "\\mathbb E \\min_\\theta R_n(\\theta) \\ne \\min_{\\theta} \\mathbb E R_n(\\theta) = \\min_\\theta R(\\theta).\n",
    "$$\n",
    "\n",
    "### Solution\n",
    "\n",
    "Split the data randomly into training and test sets: \n",
    "- train $\\hat \\theta$ with the training data\n",
    "- test $\\hat \\theta$ with the test data\n",
    "\n",
    "Because the test data is independent of $\\hat \\theta$ we can think of the training process as fixed and test error is now unbiased for risk of $\\hat \\theta$."
   ]
  },
  {
   "cell_type": "code",
   "execution_count": 15,
   "id": "5b5136dc",
   "metadata": {
    "slideshow": {
     "slide_type": "slide"
    }
   },
   "outputs": [
    {
     "data": {
      "text/plain": [
       "Text(0, 0.5, 'y')"
      ]
     },
     "execution_count": 15,
     "metadata": {},
     "output_type": "execute_result"
    },
    {
     "data": {
      "image/png": "[encoded data removed]",
      "text/plain": [
       "<Figure size 640x480 with 1 Axes>"
      ]
     },
     "metadata": {},
     "output_type": "display_data"
    }
   ],
   "source": [
    "## Nonlinear example\n",
    "x = np.arange(.05,1,.01)\n",
    "y = np.sin(1/x) + np.random.normal(0,.25,len(x))\n",
    "plt.plot(x,y,'.')\n",
    "plt.xlabel(\"X\")\n",
    "plt.ylabel(\"y\")"
   ]
  },
  {
   "cell_type": "markdown",
   "id": "63e9da74",
   "metadata": {
    "slideshow": {
     "slide_type": "skip"
    }
   },
   "source": [
    "### K nearest neighbors\n",
    "\n",
    "Given a metric (d), the K-nearest neighbors of $x$ in $x_1,\\ldots,x_n$ is $x_{j_1},\\ldots,x_{j_K}$ such that\n",
    "$$\n",
    "d(x,x_{j_1}) \\le d(x,x_{j_2}) \\le \\ldots\n",
    "$$\n",
    "- KNN methods fit a local model for predicting $x$ using the KNNs\n",
    "- Intuition is that $Y|X=x$ is approximately iid with $Y|X=x_{j_k}$\n",
    "- For regression,\n",
    "$$\n",
    "\\hat y(x; K) = \\frac 1K \\sum_{k=1}^K y_{j_k}.\n",
    "$$"
   ]
  },
  {
   "cell_type": "code",
   "execution_count": 32,
   "id": "aa031e80",
   "metadata": {
    "slideshow": {
     "slide_type": "skip"
    }
   },
   "outputs": [],
   "source": [
    "## Fit K neighbors regression\n",
    "knn = KNeighborsRegressor(n_neighbors=10)\n",
    "knn.fit(X,y)\n",
    "y_pred = knn.predict(X)\n",
    "knn = KNeighborsRegressor(n_neighbors=3)\n",
    "knn.fit(X,y)\n",
    "y_pred_3 = knn.predict(X)\n",
    "\n",
    "def plotit():\n",
    "    plt.plot(x,y,'.')\n",
    "    plt.plot(x,y_pred, label=\"10-NN\")\n",
    "    plt.plot(x, y_pred_3, label=\"3-NN\")\n",
    "    plt.legend()\n",
    "    plt.xlabel(\"X\")\n",
    "    plt.ylabel(\"y\")\n",
    "    return {\"MSE 10-NN\": ((y_pred - y)**2).mean(), \"MSE 3-NN\": ((y_pred_3 - y)**2).mean()}"
   ]
  },
  {
   "cell_type": "code",
   "execution_count": 33,
   "id": "6e270ec6",
   "metadata": {
    "slideshow": {
     "slide_type": "slide"
    }
   },
   "outputs": [
    {
     "data": {
      "text/plain": [
       "{'MSE 10-NN': 0.12554682378904922, 'MSE 3-NN': 0.08425736784359172}"
      ]
     },
     "execution_count": 33,
     "metadata": {},
     "output_type": "execute_result"
    },
    {
     "data": {
      "image/png": "[encoded data removed]",
      "text/plain": [
       "<Figure size 640x480 with 1 Axes>"
      ]
     },
     "metadata": {},
     "output_type": "display_data"
    }
   ],
   "source": [
    "plotit()"
   ]
  },
  {
   "cell_type": "code",
   "execution_count": 62,
   "id": "98d9b948",
   "metadata": {
    "slideshow": {
     "slide_type": "slide"
    }
   },
   "outputs": [],
   "source": [
    "y = wine['quality'].values\n",
    "X = wine.drop(['quality'],axis=1).values\n",
    "test_size = .33\n",
    "X_tr, X_te, y_tr, y_te = train_test_split(X,y,test_size = .33)\n",
    "\n",
    "## Fitting OLS and KNN\n",
    "\n",
    "stand = StandardScaler()\n",
    "X_tr = stand.fit_transform(X_tr)\n",
    "X_te = stand.transform(X_te)\n",
    "\n",
    "MSEs = []\n",
    "train_loss = []\n",
    "neighbors_K = np.arange(1,241,2)\n",
    "for k in neighbors_K:\n",
    "    knn = KNeighborsRegressor(n_neighbors=k)\n",
    "    knn.fit(X_tr,y_tr)\n",
    "    y_pred = knn.predict(X_te)\n",
    "    MSEs.append(mean_squared_error(y_te,y_pred))\n",
    "    train_loss.append(mean_squared_error(y_tr,knn.predict(X_tr)))"
   ]
  },
  {
   "cell_type": "code",
   "execution_count": 78,
   "id": "05834706",
   "metadata": {
    "slideshow": {
     "slide_type": "skip"
    }
   },
   "outputs": [],
   "source": [
    "def plotit():\n",
    "    fig, ax1 = plt.subplots()\n",
    "    ax2 = ax1.twinx()\n",
    "    ax1.plot(neighbors_K,MSEs,label='test', c='green')\n",
    "    ax2.plot(neighbors_K, train_loss,label='train')\n",
    "    ax1.set_xlabel(r\"\"\"k (neighbors)\n",
    "    low bias $\\rightarrow$ high bias\n",
    "    high var $\\rightarrow$ low var\"\"\")\n",
    "    ax1.set_ylabel('Test error')\n",
    "    ax2.set_ylabel('Training error')\n",
    "    ax1.legend()\n",
    "    ax2.legend()"
   ]
  },
  {
   "cell_type": "code",
   "execution_count": 79,
   "id": "80034a7e",
   "metadata": {
    "slideshow": {
     "slide_type": "slide"
    }
   },
   "outputs": [
    {
     "data": {
      "image/png": "[encoded data removed]",
      "text/plain": [
       "<Figure size 640x480 with 2 Axes>"
      ]
     },
     "metadata": {},
     "output_type": "display_data"
    }
   ],
   "source": [
    "plotit()"
   ]
  },
  {
   "cell_type": "code",
   "execution_count": 60,
   "id": "e336035d",
   "metadata": {
    "slideshow": {
     "slide_type": "slide"
    }
   },
   "outputs": [
    {
     "data": {
      "text/plain": [
       "0.4343174852909845"
      ]
     },
     "execution_count": 60,
     "metadata": {},
     "output_type": "execute_result"
    }
   ],
   "source": [
    "np.min(MSEs)"
   ]
  },
  {
   "cell_type": "markdown",
   "id": "fbd0e0d4",
   "metadata": {
    "slideshow": {
     "slide_type": "subslide"
    }
   },
   "source": [
    "- This MSE is the minimum of MSEs (empirical risks) for $k=1,3,\\ldots,241$, so it is not a good estimate of the true risk after selecting $k$\n",
    "- This is why we create validation sets, to maintain a held-out test set to give an honest estimate of the true risk."
   ]
  },
  {
   "cell_type": "markdown",
   "id": "d46fc5f8",
   "metadata": {
    "slideshow": {
     "slide_type": "slide"
    }
   },
   "source": [
    "### Cross validation\n",
    "\n",
    "Recall that we fit on training set and tested (validated) on test set.  \n",
    "\n",
    "- We lose much of the data in training if we make test set large\n",
    "- But if test set is small then the error estimate is noisy\n",
    "\n",
    "To \"stabilize\" the test error we can draw a new test set and then average the resulting test errors, this is called *cross-validation*."
   ]
  },
  {
   "cell_type": "markdown",
   "id": "6d3c78f4",
   "metadata": {
    "slideshow": {
     "slide_type": "slide"
    }
   },
   "source": [
    "### Cross validation\n",
    "\n",
    "**K-fold cross-validation**\n",
    "1. Partition data into K sets of size $n/K$ randomly.\n",
    "2. For each set $i = 1,\\ldots,K$:\n",
    "   1. Fit on all data but the set $i$\n",
    "   2. Test on set $i$\n",
    "   3. Obtain test error $e_i$\n",
    "3. Return error estimate $\\frac 1K \\sum_i e_i$\n",
    "\n",
    "**Leave-one-out CV:** Set $K = n$, each sample is its own holdout."
   ]
  },
  {
   "cell_type": "code",
   "execution_count": 81,
   "id": "c0dcb115",
   "metadata": {},
   "outputs": [
    {
     "name": "stdout",
     "output_type": "stream",
     "text": [
      "Accuracy: 95.56%\n"
     ]
    }
   ],
   "source": [
    "\n",
    "# Load dataset\n",
    "iris = load_iris()\n",
    "X, y = iris.data, iris.target\n",
    "\n",
    "# Split the dataset into training and test sets\n",
    "X_train, X_test, y_train, y_test = train_test_split(X, y, test_size=0.3, random_state=42)\n",
    "\n",
    "# Create a pipeline\n",
    "pipeline = Pipeline([\n",
    "    ('scaler', StandardScaler()),         # Step 1: Standardize the data\n",
    "    ('pca', PCA(n_components=2)),          # Step 2: Reduce dimensionality using PCA\n",
    "    ('classifier', RandomForestClassifier(n_estimators=100))  # Step 3: Train a Random Forest classifier\n",
    "])\n",
    "\n",
    "# Fit the pipeline on the training data\n",
    "pipeline.fit(X_train, y_train)\n",
    "\n",
    "# Predict using the pipeline\n",
    "y_pred = pipeline.predict(X_test)\n",
    "\n",
    "# Evaluate the pipeline\n",
    "accuracy = accuracy_score(y_test, y_pred)\n",
    "print(f'Accuracy: {accuracy * 100:.2f}%')"
   ]
  },
  {
   "cell_type": "code",
   "execution_count": 84,
   "id": "55d87d9c",
   "metadata": {},
   "outputs": [
    {
     "name": "stdout",
     "output_type": "stream",
     "text": [
      "Fold accuracy: 90.00%\n",
      "Fold accuracy: 93.33%\n",
      "Fold accuracy: 90.00%\n",
      "Fold accuracy: 86.67%\n",
      "Fold accuracy: 86.67%\n",
      "Average accuracy: 89.33%\n"
     ]
    }
   ],
   "source": [
    "kf = KFold(n_splits=5, shuffle=True, random_state=42)\n",
    "\n",
    "accuracies = []\n",
    "\n",
    "# Perform cross-validation\n",
    "for train_index, test_index in kf.split(X):\n",
    "    X_train, X_test = X[train_index], X[test_index]\n",
    "    y_train, y_test = y[train_index], y[test_index]\n",
    "    \n",
    "    # Fit the pipeline on the training data\n",
    "    pipeline.fit(X_train, y_train)\n",
    "    \n",
    "    # Predict using the pipeline\n",
    "    y_pred = pipeline.predict(X_test)\n",
    "    \n",
    "    # Evaluate the pipeline\n",
    "    accuracy = accuracy_score(y_test, y_pred)\n",
    "    accuracies.append(accuracy)\n",
    "    print(f'Fold accuracy: {accuracy * 100:.2f}%')\n",
    "\n",
    "# Calculate the average accuracy\n",
    "average_accuracy = sum(accuracies) / len(accuracies)\n",
    "print(f'Average accuracy: {average_accuracy * 100:.2f}%')"
   ]
  }
 ],
 "metadata": {
  "kernelspec": {
   "display_name": "tabular",
   "language": "python",
   "name": "tabular"
  },
  "language_info": {
   "codemirror_mode": {
    "name": "ipython",
    "version": 3
   },
   "file_extension": ".py",
   "mimetype": "text/x-python",
   "name": "python",
   "nbconvert_exporter": "python",
   "pygments_lexer": "ipython3",
   "version": "3.11.4"
  }
 },
 "nbformat": 4,
 "nbformat_minor": 5
}
